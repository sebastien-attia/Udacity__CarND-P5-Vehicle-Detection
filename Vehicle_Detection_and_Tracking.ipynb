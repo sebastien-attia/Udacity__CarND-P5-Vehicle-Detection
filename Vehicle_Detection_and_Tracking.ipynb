{
 "cells": [
  {
   "cell_type": "markdown",
   "metadata": {},
   "source": [
    "# Vehicle Detection Project\n",
    "\n",
    "The steps of this project are the following:\n",
    "1. Train a Linear SVM classifier to recognize cars, based on a Histogram of Oriented gradients (HOG) feature extraction,\n",
    "2. Implement a sliding-window to search for vehicles in images, with the classifier trained previously,\n",
    "3. Run the pipeline on the project video stream and create a heat map, to reject outliers and follow detected vehicles,\n",
    "4. Estimate a bounding box for vehicles detected"
   ]
  },
  {
   "cell_type": "code",
   "execution_count": 29,
   "metadata": {
    "collapsed": true
   },
   "outputs": [],
   "source": [
    "# Import all required libraries\n",
    "import os\n",
    "import glob\n",
    "import csv\n",
    "import matplotlib.image as mpimg\n",
    "import matplotlib.pyplot as plt\n",
    "import cv2\n",
    "import numpy as np\n",
    "\n",
    "%matplotlib inline"
   ]
  },
  {
   "cell_type": "markdown",
   "metadata": {},
   "source": [
    "## 1. Train a linear SVM classifier to recognize cars\n",
    "\n",
    "### a. Read labeled data"
   ]
  },
  {
   "cell_type": "code",
   "execution_count": 135,
   "metadata": {
    "scrolled": false
   },
   "outputs": [
    {
     "name": "stdout",
     "output_type": "stream",
     "text": [
      "Number of 'car' images: 132150\n",
      "Number of 'not car' images: 50760\n"
     ]
    },
    {
     "data": {
      "image/png": "[encoded data removed]",
      "text/plain": [
       "<matplotlib.figure.Figure at 0x273f73d2f60>"
      ]
     },
     "metadata": {},
     "output_type": "display_data"
    }
   ],
   "source": [
    "def display_random_images(cars, not_cars):\n",
    "    car_ind = np.random.randint(0, len(cars))\n",
    "    notcar_ind = np.random.randint(0, len(not_cars))\n",
    "\n",
    "    img_reader, image = cars[car_ind]\n",
    "    car_image = img_reader(image)\n",
    "\n",
    "    img_reader, img_params = not_cars[notcar_ind]\n",
    "    notcar_image = img_reader(img_params)\n",
    "\n",
    "    fig = plt.figure()\n",
    "    plt.subplot(121)\n",
    "    plt.imshow(car_image)\n",
    "    plt.title('Example Car Image')\n",
    "    plt.subplot(122)\n",
    "    plt.imshow(notcar_image)\n",
    "    plt.title('Example Not-car Image')\n",
    "\n",
    "    \n",
    "def load_labeled_images(cars=[], not_cars=[]):\n",
    "    def img_reader(img_path):\n",
    "        return mpimg.imread(img_path)\n",
    "        \n",
    "    images = glob.glob('data/*/*/*/*.png')\n",
    "    for image in images:\n",
    "        if 'non-vehicles' in image:\n",
    "            not_cars.append( (img_reader, image) )\n",
    "        else:\n",
    "            cars.append( (img_reader, image) )\n",
    "    \n",
    "    return cars, not_cars\n",
    "\n",
    "\n",
    "def load_annoted_driving_dataset1(cars=[], not_cars=[]):\n",
    "    source_dir = ['data','object-detection-crowdai']\n",
    "    def img_reader(img_params):\n",
    "        xmin, xmax, ymin, ymax, Frame = img_params\n",
    "        img = cv2.imread(os.path.join(*source_dir, Frame))\n",
    "        return cv2.resize(img[xmax:ymax, xmin:ymin], (64,64))\n",
    "    \n",
    "    with open(os.path.join(*source_dir, 'labels.csv'), newline='') as f:\n",
    "        reader = csv.DictReader(f, delimiter=',', quoting=csv.QUOTE_NONE)\n",
    "        for row in reader:\n",
    "            xmin, xmax, ymin, ymax, Frame, Label = row['xmin'], row['xmax'], row['ymin'], row['ymax'], row['Frame'], row['Label']\n",
    "            xmin, xmax, ymin, ymax = tuple(map(int, (xmin, xmax, ymin, ymax)))\n",
    "            \n",
    "            if Label == 'Car':\n",
    "                cars.append( (img_reader, (xmin, xmax, ymin, ymax, Frame)) )\n",
    "            else:\n",
    "                not_cars.append( (img_reader, (xmin, xmax, ymin, ymax, Frame)) )\n",
    "            \n",
    "    return cars, not_cars\n",
    "\n",
    "\n",
    "def load_annoted_driving_dataset2(cars=[], not_cars=[]):\n",
    "    source_dir = ['data','object-dataset']\n",
    "    def img_reader(img_params):\n",
    "        xmin, xmax, ymin, ymax, Frame = img_params\n",
    "        xmin, xmax, ymin, ymax = tuple(map(int, (xmin, xmax, ymin, ymax)))\n",
    "        img = cv2.imread(os.path.join(*source_dir, Frame))\n",
    "        return cv2.resize(img[ymin:ymax, xmin:xmax], (64,64))\n",
    "    \n",
    "    with open(os.path.join(*source_dir, 'labels.csv'), newline='') as f:\n",
    "        reader = csv.reader(f, delimiter=' ', quoting=csv.QUOTE_MINIMAL)\n",
    "        # frame xmin ymin xmax ymax occluded label attributes(Only appears on traffic lights)\n",
    "        for row in reader:\n",
    "            frame, xmin, ymin, xmax, ymax, occluded, label = row[0], row[1], row[2], row[3], row[4], row[5], row[6]\n",
    "            xmin, xmax, ymin, ymax = tuple(map(int, (xmin, xmax, ymin, ymax)))\n",
    "            \n",
    "            if label.lower() == 'car':\n",
    "                cars.append( (img_reader, (xmin, xmax, ymin, ymax, frame)) )\n",
    "            else:\n",
    "                not_cars.append( (img_reader, (xmin, xmax, ymin, ymax, frame)) )\n",
    "            \n",
    "    return cars, not_cars\n",
    "\n",
    "cars, not_cars = load_labeled_images()\n",
    "load_annoted_driving_dataset1(cars, not_cars)\n",
    "load_annoted_driving_dataset2(cars, not_cars)\n",
    "\n",
    "print('Number of \\'car\\' images:', len(cars))\n",
    "print('Number of \\'not car\\' images:', len(not_cars))\n",
    "\n",
    "display_random_images(cars, not_cars)"
   ]
  },
  {
   "cell_type": "code",
   "execution_count": null,
   "metadata": {
    "collapsed": true
   },
   "outputs": [],
   "source": []
  },
  {
   "cell_type": "code",
   "execution_count": null,
   "metadata": {
    "collapsed": true
   },
   "outputs": [],
   "source": []
  }
 ],
 "metadata": {
  "kernelspec": {
   "display_name": "Python 3",
   "language": "python",
   "name": "python3"
  },
  "language_info": {
   "codemirror_mode": {
    "name": "ipython",
    "version": 3
   },
   "file_extension": ".py",
   "mimetype": "text/x-python",
   "name": "python",
   "nbconvert_exporter": "python",
   "pygments_lexer": "ipython3",
   "version": "3.5.2"
  }
 },
 "nbformat": 4,
 "nbformat_minor": 2
}
